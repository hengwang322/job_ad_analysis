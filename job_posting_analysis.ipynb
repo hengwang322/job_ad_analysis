{
 "cells": [
  {
   "cell_type": "code",
   "execution_count": 6,
   "metadata": {},
   "outputs": [],
   "source": [
    "from selenium import webdriver\n",
    "import time\n",
    "import numpy as np\n",
    "import pandas as pd\n",
    "import random\n",
    "from bs4 import BeautifulSoup\n",
    "import requests\n",
    "import fuckit #!pip install fuckit"
   ]
  },
  {
   "cell_type": "markdown",
   "metadata": {},
   "source": [
    "# Web-scrape job posts on au.indeed.com\n",
    "\n",
    "First, Selenium is used to automate the process of job searching with a certain salary range. This hidden salary range will serve as the true salary in modelling later. Selenium will retrieve all jobs' urls in `all_links`, and a separate list `all_salaries` stores the corresponding salary ranges. To speed up the scraping process, BeautifulSoup is used instead to go through each url and scarp the data, which is stored in a dataframe."
   ]
  },
  {
   "cell_type": "markdown",
   "metadata": {},
   "source": [
    "## Define helper functions for web-scraping "
   ]
  },
  {
   "cell_type": "code",
   "execution_count": 2,
   "metadata": {},
   "outputs": [],
   "source": [
    "def get_all_links(search,location,site='https://au.indeed.com/advanced_search'):\n",
    "    '''\n",
    "    Use Selenium to go through each search phrases based on a salary range\n",
    "    Returns all jobs' urls and their corresponding salary range\n",
    "    '''\n",
    "    driver = webdriver.Chrome(executable_path=r\"C:\\Program Files (x86)\\ChromeDriver\\chromedriver.exe\")\n",
    "    all_links = []\n",
    "    all_salaries = []\n",
    "    # Search jobs by each salary_range (and other criteras), this range is its true, hidden salary \n",
    "    for s in range(lower,upper,step):\n",
    "        salary_range = '$'+str(s)+'-$'+str(s+step-1)\n",
    "        driver.get(site)\n",
    "        driver.find_element_by_name('as_phr').send_keys(search) # exact phrase\n",
    "        driver.find_element_by_name('salary').send_keys(salary_range)\n",
    "        driver.find_element_by_name('l').send_keys(location)\n",
    "        driver.find_element_by_xpath(\"//select[@name='limit']/option[text()='50']\").click()\n",
    "        driver.find_element_by_id('fj').click()\n",
    "\n",
    "        while True:\n",
    "            try:\n",
    "                time.sleep(random.randrange(1500,3000)/1000)\n",
    "                try: # Get rid of popup, ignore if it doesn't turn up\n",
    "                    driver.find_element_by_xpath('//a[@class=\"icl-CloseButton popover-x-button-close\"]').click()\n",
    "                except:\n",
    "                    pass\n",
    "\n",
    "                links = driver.find_elements_by_xpath('//a[@data-tn-element=\"jobTitle\"]')\n",
    "                for i in range(len(links)): # Get all the urls in one page, append to master list all_links\n",
    "                    all_links.append(links[i].get_attribute('href'))\n",
    "                    all_salaries.append(salary_range)\n",
    "                # Go to next page till no more nexts, throwing an error and breaking out the loop\n",
    "                driver.find_element_by_xpath('//span[@class=\"pn\"]/span[contains(text(), \"Next\")]').click() \n",
    "            except:\n",
    "                break\n",
    "\n",
    "    driver.close()\n",
    "    return all_links,all_salaries"
   ]
  },
  {
   "cell_type": "code",
   "execution_count": 29,
   "metadata": {},
   "outputs": [],
   "source": [
    "@fuckit\n",
    "def get_data(i,all_links,all_salaries,search):\n",
    "    '''\n",
    "    Get the data of row i in all_links list and return a dataframe\n",
    "    Use fuckit to ignore all the non-existent values, which will turn up as NaN in the final dataframe\n",
    "    '''\n",
    "    df = pd.DataFrame()\n",
    "    print('Now scraping No.'+str(i+1)+' of '+str(len(all_links)), end='\\r')\n",
    "\n",
    "    soup = BeautifulSoup(requests.get(all_links[i]).content,'lxml')\n",
    "    # Deal with Salary and job type, pick out any contains number as salary, otherwise as job type\n",
    "    salary, jobtype = np.nan,np.nan\n",
    "    foo = soup.find_all(\"span\",attrs={'class':\"jobsearch-JobMetadataHeader-iconLabel\"})[1].text\n",
    "    bar = soup.find_all(\"span\",attrs={'class':\"jobsearch-JobMetadataHeader-iconLabel\"})[2].text\n",
    "    if any(char.isdigit() for char in foo):    salary = foo\n",
    "    else:    jobtype = foo\n",
    "    if any(char.isdigit() for char in bar):    salary = bar\n",
    "    else:    jobtype = bar\n",
    "    # That's right, no regex, take that Alfred!\n",
    "    \n",
    "    df.loc[i,'searchTerm']= search\n",
    "    df.loc[i,'jobTitle']=soup.find_all('h3',attrs={\n",
    "        'class':\"icl-u-xs-mb--xs icl-u-xs-mt--none jobsearch-JobInfoHeader-title\"})[0].text\n",
    "    df.loc[i,'companyName']=soup.find_all(\"div\",attrs={'class':\"icl-u-lg-mr--sm icl-u-xs-mr--xs\"})[0].text\n",
    "    df.loc[i,'companyRating']=soup.find_all('div',attrs={'class':\"icl-Ratings-starsCountWrapper\"}\n",
    "                                           )[0][\"aria-label\"].split(' ')[0]\n",
    "    df.loc[i,'companyLocation']=soup.find_all(\"span\",attrs={'class':\"jobsearch-JobMetadataHeader-iconLabel\"})[0].text\n",
    "    df.loc[i,'salary']=salary\n",
    "    df.loc[i,'hiddenSalary']=all_salaries[i]\n",
    "    df.loc[i,'jobType']=jobtype\n",
    "    df.loc[i,'jobDesc']=soup.find_all(\"div\",attrs={\"class\":\"jobsearch-jobDescriptionText\"})[0].text\n",
    "    df.loc[i,'url']=all_links[i]\n",
    "        \n",
    "    soup.clear()\n",
    "    time.sleep(random.randrange(200,1000)/1000)\n",
    "        \n",
    "    return df"
   ]
  },
  {
   "cell_type": "markdown",
   "metadata": {},
   "source": [
    "## Scrape for Data Scientist, Data Engineer, Data Analyst, Business Intelligence"
   ]
  },
  {
   "cell_type": "code",
   "execution_count": 4,
   "metadata": {},
   "outputs": [],
   "source": [
    "search ='Data Scientist'\n",
    "location = 'Australia'\n",
    "lower,upper,step=20000,250000,10000\n",
    "all_links,all_salaries=get_all_links(search,location)\n",
    "df = pd.DataFrame()\n",
    "for i in range(len(all_links)):\n",
    "    new_df = get_data(i,all_links,all_salaries,search)\n",
    "    df = pd.concat([df,new_df],axis=0)\n",
    "sci=df.copy(deep=True)\n",
    "\n",
    "search ='Data Engineer'\n",
    "location = 'Australia'\n",
    "lower,upper,step=20000,250000,10000\n",
    "all_links,all_salaries=get_all_links(search,location)\n",
    "df = pd.DataFrame()\n",
    "for i in range(len(all_links)):\n",
    "    new_df = get_data(i,all_links,all_salaries,search)\n",
    "    df = pd.concat([df,new_df],axis=0)\n",
    "eng=df.copy(deep=True)\n",
    "\n",
    "search ='Data Analyst'\n",
    "location = 'Australia'\n",
    "lower,upper,step=20000,250000,10000\n",
    "all_links,all_salaries=get_all_links(search,location)\n",
    "df = pd.DataFrame()\n",
    "for i in range(len(all_links)):\n",
    "    new_df = get_data(i,all_links,all_salaries,search)\n",
    "    df = pd.concat([df,new_df],axis=0)\n",
    "ana=df.copy(deep=True)\n",
    "\n",
    "search ='Business Intelligence'\n",
    "location = 'Australia'\n",
    "lower,upper,step=20000,250000,10000\n",
    "all_links,all_salaries=get_all_links(search,location)\n",
    "df = pd.DataFrame()\n",
    "for i in range(len(all_links)):\n",
    "    new_df = get_data(i,all_links,all_salaries,search)\n",
    "    df = pd.concat([df,new_df],axis=0)\n",
    "bi=df.copy(deep=True)"
   ]
  },
  {
   "cell_type": "code",
   "execution_count": 147,
   "metadata": {},
   "outputs": [],
   "source": [
    "# Concatenate all 4 dataframes\n",
    "df=pd.DataFrame()\n",
    "df=pd.concat([sci,eng],axis=0)\n",
    "df=pd.concat([df,ana],axis=0)\n",
    "df=pd.concat([df,bi],axis=0)\n",
    "\n",
    "df.drop_duplicates(subset='url',keep='first',inplace=True)\n",
    "df.reset_index(drop=True,inplace=True)"
   ]
  },
  {
   "cell_type": "code",
   "execution_count": 1017,
   "metadata": {},
   "outputs": [],
   "source": [
    "# Manually filling some missing values\n",
    "# df[df.drop(['jobType','companyRating','salary'],axis=1).isna().any(1)]\n",
    "\n",
    "# For some reason, scrapping didn't catch the info, so they are filled again\n",
    "foo = get_data(0,[df.loc[265,'url']],[df.loc[265,'hiddenSalary']],'Data Engineer')\n",
    "for col in foo.columns:\n",
    "    df.loc[265,col] = foo.loc[0,col]\n",
    "\n",
    "foo = get_data(0,[df.loc[1096,'url']],[df.loc[1096,'hiddenSalary']],'Business Intelligence')\n",
    "for col in foo.columns:\n",
    "    df.loc[1096,col] = foo.loc[0,col]\n",
    "\n",
    "# Info on Indeed is missing for whatever reason, they are filled manually by finding the info in OG posts\n",
    "df.loc[277,'companyName'] = 'Sirius People'\n",
    "df.loc[691,'companyName'] = 'Sirius People'\n",
    "df.loc[1084,'companyName'] = 'Sirius People'\n",
    "\n",
    "df.loc[119,'jobTitle'] = 'Computer Vision Data Scientist'\n",
    "df.loc[1017,'jobTitle'] = 'Senior Management Information Analyst'\n",
    "df.loc[473,'jobTitle'] = 'Data Analyst'\n",
    "\n",
    "df.to_csv('df.csv',index=False)"
   ]
  },
  {
   "cell_type": "markdown",
   "metadata": {},
   "source": [
    "# Data cleaning"
   ]
  },
  {
   "cell_type": "code",
   "execution_count": 7,
   "metadata": {},
   "outputs": [],
   "source": [
    "df=pd.read_csv('df.csv')"
   ]
  },
  {
   "cell_type": "code",
   "execution_count": 3,
   "metadata": {},
   "outputs": [],
   "source": [
    "# To filter out less relevant jobs, only ones that has a keyword listed in containfilter in their titles will be kept\n",
    "containfilter = 'data|scientist|analyst|bi|business|intelligenc|sql|ba|python|consultant|information|tableau|analytic'\n",
    "\n",
    "# Define a temp df and converts all titles to lower case \n",
    "mask_df=pd.DataFrame(df['jobTitle'].str.lower())\n",
    "data_mask = mask_df[['jobTitle']].apply(lambda row: row.astype(str).str.contains(containfilter).any(), axis=1)\n",
    "df = df[data_mask].reset_index(drop=True)"
   ]
  },
  {
   "cell_type": "code",
   "execution_count": 4,
   "metadata": {},
   "outputs": [],
   "source": [
    "def clean_salary(x):\n",
    "    '''Remove the coma and dollar signs, converts all to annual income'''\n",
    "    if not pd.isnull(x):\n",
    "        if 'hour' in x.lower(): multiplier=252*8\n",
    "        elif 'day' in x.lower(): multiplier=252\n",
    "        elif 'week' in x.lower(): multiplier=48\n",
    "        elif 'month' in x.lower(): multiplier=12\n",
    "        else: multiplier=1\n",
    "\n",
    "        x = x.replace('$','').replace(',','').replace('−','').replace('-','')\n",
    "        salaryl=float(x.split()[0])\n",
    "        if x.split()[1].isdigit(): salaryh=float(x.split()[1])\n",
    "        else: salaryh = salaryl\n",
    "            \n",
    "        return str(int(salaryl*multiplier))+'-'+str(int(salaryh*multiplier))\n",
    "    else:\n",
    "        return np.nan\n",
    "\n",
    "def clean_loc(x):\n",
    "    '''Aggreate all location info to major cities'''\n",
    "    if 'Sydney' in x: cleaned = 'Sydney'\n",
    "    elif 'Melbourne' in x:  cleaned = 'Melbourne'\n",
    "    elif 'Canberra' in x:   cleaned = 'Canberra'\n",
    "    elif 'Brisbane' in x:   cleaned = 'Brisbane'\n",
    "    elif 'Perth'    in x:      cleaned = 'Perth' \n",
    "    elif 'Adelaide' in x:   cleaned = 'Adelaide'\n",
    "    elif 'Darwin' in x:   cleaned = 'Darwin'\n",
    "    else:  cleaned = x\n",
    "        \n",
    "    return cleaned\n",
    "\n",
    "def clean_loc2(x):  \n",
    "    '''Anywhere outside a major city is only indicated by its state/territory'''\n",
    "    if 'NSW' in x:   cleaned = 'New South Wales'\n",
    "    elif 'VIC' in x:   cleaned = 'Victoria'\n",
    "    elif 'SA' in x:   cleaned = 'South Australia'\n",
    "    elif 'QLD' in x:   cleaned = 'Queensland'\n",
    "    elif 'WA' in x:   cleaned = 'Western Australia'\n",
    "    elif 'ACT' in x:   cleaned = 'Australian Capital Territory'\n",
    "    elif 'TAS' in x:   cleaned = 'Tasmania'\n",
    "    elif 'NT' in x:   cleaned = 'Northern Territory'\n",
    "    else:  cleaned = x\n",
    "        \n",
    "    return cleaned"
   ]
  },
  {
   "cell_type": "code",
   "execution_count": 5,
   "metadata": {
    "scrolled": true
   },
   "outputs": [],
   "source": [
    "df.salary = df.salary.apply(clean_salary)\n",
    "# take the lower limit in the range\n",
    "df.hiddenSalary = df.hiddenSalary.apply(lambda x: int(x.replace('$','').split('-')[0])) \n",
    "df.companyLocation = df.companyLocation.apply(clean_loc).apply(clean_loc2)\n",
    "\n",
    "df = df.drop(['salary','jobType','companyRating'],axis=1)"
   ]
  },
  {
   "cell_type": "code",
   "execution_count": 6,
   "metadata": {},
   "outputs": [
    {
     "data": {
      "text/plain": [
       "(1081, 7)"
      ]
     },
     "execution_count": 6,
     "metadata": {},
     "output_type": "execute_result"
    }
   ],
   "source": [
    "df.shape"
   ]
  },
  {
   "cell_type": "code",
   "execution_count": 17,
   "metadata": {},
   "outputs": [],
   "source": [
    "from os import path\n",
    "from PIL import Image\n",
    "from wordcloud import WordCloud, STOPWORDS, ImageColorGenerator #!pip install wordcloud\n",
    "import matplotlib.pyplot as plt\n",
    "\n",
    "%matplotlib inline"
   ]
  },
  {
   "cell_type": "code",
   "execution_count": 19,
   "metadata": {},
   "outputs": [
    {
     "data": {
      "image/png": "[encoded data removed]",
      "text/plain": [
       "<Figure size 864x576 with 1 Axes>"
      ]
     },
     "metadata": {
      "needs_background": "light"
     },
     "output_type": "display_data"
    }
   ],
   "source": [
    "# Plotting a word cloud for job descriptions\n",
    "text = ''\n",
    "for i in df.index:\n",
    "    text = text + df.jobDesc[i] + ' '\n",
    "    \n",
    "wordcloud = WordCloud(max_words=100, width=600, height=400).generate(text)\n",
    "\n",
    "plt.rcParams['figure.figsize'] = 12, 8\n",
    "plt.imshow(wordcloud)\n",
    "plt.axis(\"off\")\n",
    "plt.show()"
   ]
  },
  {
   "cell_type": "markdown",
   "metadata": {},
   "source": [
    "# Modeling"
   ]
  },
  {
   "cell_type": "markdown",
   "metadata": {},
   "source": [
    "## How job descriptions and titles impact salary\n",
    "The data is labelled in `salaryHigh` according to the median wage as threshold. Random Forest and SVM classifiers are used to determine key phrases in job description and titles that distinguish high paying jobs from low."
   ]
  },
  {
   "cell_type": "code",
   "execution_count": 8,
   "metadata": {},
   "outputs": [],
   "source": [
    "from sklearn.feature_extraction.text import CountVectorizer, TfidfVectorizer\n",
    "from textblob import TextBlob, Word\n",
    "from nltk.stem.snowball import SnowballStemmer\n",
    "\n",
    "from sklearn.model_selection import train_test_split\n",
    "from sklearn.ensemble import RandomForestClassifier\n",
    "from sklearn import metrics\n",
    "from sklearn.svm import SVC,LinearSVC"
   ]
  },
  {
   "cell_type": "code",
   "execution_count": 13,
   "metadata": {},
   "outputs": [
    {
     "data": {
      "text/plain": [
       "90000     312\n",
       "100000    172\n",
       "80000     121\n",
       "110000    121\n",
       "120000     71\n",
       "130000     58\n",
       "70000      53\n",
       "140000     36\n",
       "160000     29\n",
       "150000     21\n",
       "60000      21\n",
       "170000     20\n",
       "180000     16\n",
       "50000       8\n",
       "200000      7\n",
       "190000      6\n",
       "210000      3\n",
       "220000      3\n",
       "230000      1\n",
       "240000      1\n",
       "30000       1\n",
       "Name: hiddenSalary, dtype: int64"
      ]
     },
     "execution_count": 13,
     "metadata": {},
     "output_type": "execute_result"
    }
   ],
   "source": [
    "df.hiddenSalary.value_counts()"
   ]
  },
  {
   "cell_type": "code",
   "execution_count": 9,
   "metadata": {},
   "outputs": [
    {
     "data": {
      "text/plain": [
       "<matplotlib.axes._subplots.AxesSubplot at 0x227cd8ace88>"
      ]
     },
     "execution_count": 9,
     "metadata": {},
     "output_type": "execute_result"
    },
    {
     "data": {
      "image/png": "[encoded data removed]",
      "text/plain": [
       "<Figure size 432x288 with 1 Axes>"
      ]
     },
     "metadata": {
      "needs_background": "light"
     },
     "output_type": "display_data"
    }
   ],
   "source": [
    "df.hiddenSalary.hist()"
   ]
  },
  {
   "cell_type": "code",
   "execution_count": 10,
   "metadata": {},
   "outputs": [],
   "source": [
    "threshold = df.hiddenSalary.median()\n",
    "for i in df.index:\n",
    "    if df.loc[i,'hiddenSalary'] >= threshold:\n",
    "        df.loc[i,'salaryHigh'] = 1\n",
    "    else:\n",
    "        df.loc[i,'salaryHigh'] = 0"
   ]
  },
  {
   "cell_type": "code",
   "execution_count": 358,
   "metadata": {},
   "outputs": [],
   "source": [
    "# def lemmatize_string(text):\n",
    "#     string = str()\n",
    "#     text = str(text).lower()\n",
    "#     words = TextBlob(text).words\n",
    "#     for word in words:\n",
    "#         string = string+' '+word.lemmatize()\n",
    "#     return string\n",
    "\n",
    "# def stemmer_string(text):\n",
    "#     string = str()\n",
    "#     stemmer = SnowballStemmer('english')\n",
    "#     for word in text.split():\n",
    "#         string = string+' '+stemmer.stem(word)\n",
    "#     return string\n",
    "\n",
    "# df.jobDesc = df.jobDesc.apply(lemmatize_string)\n",
    "# df.jobDesc = df.jobDesc.apply(stemmer_string)"
   ]
  },
  {
   "cell_type": "markdown",
   "metadata": {},
   "source": [
    "### The effect of job description on salary - Random Forest\n",
    "`X` will be the vectorizered job descriptions, `y` target will be whether it is a high salary job or not. Print out the most frequent phrases in each `y` category, as well as the most important features according to the random forest model."
   ]
  },
  {
   "cell_type": "code",
   "execution_count": 28,
   "metadata": {
    "scrolled": true
   },
   "outputs": [],
   "source": [
    "X=df.jobDesc\n",
    "y=df.salaryHigh\n",
    "X_train, X_test, y_train, y_test = train_test_split(X,y,random_state=42)"
   ]
  },
  {
   "cell_type": "code",
   "execution_count": 29,
   "metadata": {},
   "outputs": [
    {
     "data": {
      "text/plain": [
       "0.5276752767527675"
      ]
     },
     "execution_count": 29,
     "metadata": {},
     "output_type": "execute_result"
    }
   ],
   "source": [
    "# Test data baseline\n",
    "y_test.value_counts(normalize=True).max()"
   ]
  },
  {
   "cell_type": "code",
   "execution_count": 59,
   "metadata": {},
   "outputs": [],
   "source": [
    "vect = TfidfVectorizer(stop_words='english',ngram_range=(1,3))\n",
    "# vect = CountVectorizer(stop_words='english',ngram_range=(1,3),binary=True)\n",
    "X_train_dtm = vect.fit_transform(X_train)\n",
    "X_test_dtm = vect.transform(X_test)"
   ]
  },
  {
   "cell_type": "code",
   "execution_count": 60,
   "metadata": {},
   "outputs": [
    {
     "name": "stdout",
     "output_type": "stream",
     "text": [
      "Train set score 0.989399, test set score 0.750000\n"
     ]
    }
   ],
   "source": [
    "rfc = RandomForestClassifier(n_estimators=500,max_depth=10,max_leaf_nodes=50)\n",
    "rfc.fit(X_train_dtm,y_train)\n",
    "print('Train set score %f, test set score %f' % \\\n",
    "      (metrics.f1_score(y_train,rfc.predict(X_train_dtm)),\n",
    "       metrics.f1_score(y_test,rfc.predict(X_test_dtm))))"
   ]
  },
  {
   "cell_type": "code",
   "execution_count": 61,
   "metadata": {},
   "outputs": [
    {
     "name": "stdout",
     "output_type": "stream",
     "text": [
      "The most important features are ['analyst', 'excel', 'enterprise', 'experience', 'transformation', 'big', 'data analyst', 'successful', 'analysing', 'big data', 'skills ability', 'python', 'machine', 'solution', 'leadership']\n"
     ]
    }
   ],
   "source": [
    "rfc_importance = pd.DataFrame({'Features':vect.get_feature_names(),\n",
    "                               'Importance':rfc.feature_importances_})\n",
    "\n",
    "print('The most important features are '+\\\n",
    "      str(rfc_importance.sort_values(by='Importance',ascending=False).head(15).Features.tolist()))"
   ]
  },
  {
   "cell_type": "code",
   "execution_count": 62,
   "metadata": {},
   "outputs": [],
   "source": [
    "def get_tf_phrase(vect,X,y,estimator,feature_len):\n",
    "    '''\n",
    "    Input the estimator, orignal X and y, vectorizer and print out the most frequent phrases in catergories\n",
    "    where label == 1 or 0 in deseneding order. Phrases presented in both catergories are removed.\n",
    "    '''\n",
    "    # Define a TF predictor matrix and concat it with the label\n",
    "    tf = pd.concat([pd.DataFrame(vect.transform(X).toarray(), columns=vect.get_feature_names()),\n",
    "                    #pd.DataFrame({'pred':estimator.predict(vect.transform(X))})],axis=1)\n",
    "                    pd.DataFrame(y.values, columns=['pred'])],axis=1)\n",
    "    # Use list so the order is preserved\n",
    "    one = list(tf[tf.pred == 1].drop('pred',axis=1).sum().sort_values(ascending=False).head(feature_len).index)\n",
    "    zero = list(tf[tf.pred == 0].drop('pred',axis=1).sum().sort_values(ascending=False).head(feature_len).index)\n",
    "    # Convert to set to get the intersection, which can be subtracted\n",
    "    print('The most frequent phrases where label == 1 are ' + \\\n",
    "          str([s for s in one if s not in list(set(one).intersection(set(zero)))]),end='\\n\\n')\n",
    "    print('The most frequent phrases where label == 0 are ' + \\\n",
    "        str([s for s in zero if s not in list(set(one).intersection(set(zero)))]))"
   ]
  },
  {
   "cell_type": "code",
   "execution_count": 63,
   "metadata": {
    "scrolled": false
   },
   "outputs": [
    {
     "name": "stdout",
     "output_type": "stream",
     "text": [
      "The most frequent phrases where label == 1 are ['big', 'big data', 'financial', 'science', 'aws', 'technology', 'learning', 'cloud', 'using', 'company', 'models', 'engineer', 'years', 'business intelligence', 'projects', 'azure', 'stakeholders']\n",
      "\n",
      "The most frequent phrases where label == 0 are ['analyst', 'opportunity', 'data analyst', 'systems', 'including', 'people', 'quality', 'required', 'develop', 'environment', 'contract', 'insights', 'provide', 'reports', 'communication', 'looking', 'analytical']\n"
     ]
    }
   ],
   "source": [
    "get_tf_phrase(vect,X_train,y_train,rfc,50)"
   ]
  },
  {
   "cell_type": "markdown",
   "metadata": {},
   "source": [
    "### The effect of job description on salary - SVM\n",
    "Print out the most frequent phrases in each y category, as well as features with the most positive and negative coefficients according to the SVM model."
   ]
  },
  {
   "cell_type": "code",
   "execution_count": 64,
   "metadata": {
    "scrolled": true
   },
   "outputs": [
    {
     "name": "stdout",
     "output_type": "stream",
     "text": [
      "Train set score 1.000000, test set score 0.759076\n"
     ]
    }
   ],
   "source": [
    "svc = LinearSVC(max_iter=200)\n",
    "svc.fit(X_train_dtm,y_train)\n",
    "print('Train set score %f, test set score %f' % \\\n",
    "      (metrics.f1_score(y_train,svc.predict(X_train_dtm)),\n",
    "       metrics.f1_score(y_test,svc.predict(X_test_dtm))))"
   ]
  },
  {
   "cell_type": "code",
   "execution_count": 65,
   "metadata": {},
   "outputs": [
    {
     "name": "stdout",
     "output_type": "stream",
     "text": [
      "The most frequent phrases where label == 1 are ['big', 'big data', 'financial', 'science', 'aws', 'technology', 'learning', 'cloud', 'using', 'company', 'models', 'engineer', 'years', 'business intelligence', 'projects', 'azure', 'stakeholders']\n",
      "\n",
      "The most frequent phrases where label == 0 are ['analyst', 'opportunity', 'data analyst', 'systems', 'including', 'people', 'quality', 'required', 'develop', 'environment', 'contract', 'insights', 'provide', 'reports', 'communication', 'looking', 'analytical']\n"
     ]
    }
   ],
   "source": [
    "get_tf_phrase(vect,X_train,y_train,svc,50)"
   ]
  },
  {
   "cell_type": "code",
   "execution_count": 66,
   "metadata": {},
   "outputs": [
    {
     "name": "stdout",
     "output_type": "stream",
     "text": [
      "Features with highest coefs are ['bi', 'business', 'experience', 'big data', 'big', 'senior', 'financial', 'aws', 'leading', 'lead', 'drive', 'models', 'envato', 'sap', 'leadership']\n",
      "\n",
      "Features with lowest coefs are ['analyst', 'excel', 'salesforce', 'graduate', 'data analyst', 'data analysis', 'work', 'candidates', 'analytical', 'offer', 'need', 'making', 'analysing', 'reports', 'demonstrated']\n"
     ]
    }
   ],
   "source": [
    "svc_coef = pd.DataFrame({\n",
    "    'Features':vect.get_feature_names(),\n",
    "    'Coef':svc.coef_.reshape(svc.coef_.shape[1],)\n",
    "})\n",
    "\n",
    "print('Features with highest coefs are '+\\\n",
    "      str(svc_coef.sort_values(by='Coef',ascending=False).Features.head(15).tolist()),end='\\n\\n')\n",
    "print('Features with lowest coefs are '+str(svc_coef.sort_values(by='Coef').Features.head(15).tolist()))"
   ]
  },
  {
   "cell_type": "markdown",
   "metadata": {},
   "source": [
    "### The effect of titles on salary - Random Forest\n",
    "`X2` will be vectorizered title. Since titles are much shorter, `ngram_range` will be (1,3) instead."
   ]
  },
  {
   "cell_type": "code",
   "execution_count": 67,
   "metadata": {},
   "outputs": [],
   "source": [
    "X2=df.jobTitle\n",
    "y2=df.salaryHigh\n",
    "X2_train, X2_test, y2_train, y2_test = train_test_split(X2,y2,random_state=42)"
   ]
  },
  {
   "cell_type": "code",
   "execution_count": 68,
   "metadata": {},
   "outputs": [],
   "source": [
    "vect2 = TfidfVectorizer(stop_words='english',ngram_range=(1,3),min_df=2)\n",
    "# vect2 = CountVectorizer(stop_words='english',ngram_range=(1,3),binary=True)\n",
    "\n",
    "X2_train_dtm = vect2.fit_transform(X2_train)\n",
    "X2_test_dtm = vect2.transform(X2_test)"
   ]
  },
  {
   "cell_type": "code",
   "execution_count": 69,
   "metadata": {},
   "outputs": [
    {
     "name": "stdout",
     "output_type": "stream",
     "text": [
      "Train set score 0.843292, test set score 0.709459\n"
     ]
    }
   ],
   "source": [
    "rfc2 = RandomForestClassifier(n_estimators=500,max_depth=20,max_leaf_nodes=100)\n",
    "rfc2.fit(X2_train_dtm,y2_train)\n",
    "print('Train set score %f, test set score %f' % \\\n",
    "      (metrics.f1_score(y2_train,rfc2.predict(X2_train_dtm)),\n",
    "       metrics.f1_score(y2_test,rfc2.predict(X2_test_dtm))))"
   ]
  },
  {
   "cell_type": "code",
   "execution_count": 70,
   "metadata": {},
   "outputs": [
    {
     "name": "stdout",
     "output_type": "stream",
     "text": [
      "The most frequent phrases where label == 1 are ['senior data engineer', 'lead', 'senior data scientist', 'bi developer', 'big data', 'big', 'big data engineer', 'business data', 'business data analyst', 'lead data', 'warehouse', 'data warehouse', 'technical', 'business development', 'development', 'financial', 'sql developer', 'architect', 'contract']\n",
      "\n",
      "The most frequent phrases where label == 0 are ['graduate', 'junior', 'data analyst developer', 'analyst developer', 'spatial data', 'spatial', 'tableau', 'reporting', 'junior data', 'sydney', 'marketing', 'business intelligence developer', 'intelligence developer', 'research', 'spatial data analyst', 'level', 'bi analyst', 'modeller', 'digital']\n"
     ]
    }
   ],
   "source": [
    "get_tf_phrase(vect2,X2_train,y2_train,rfc2,40)"
   ]
  },
  {
   "cell_type": "code",
   "execution_count": 71,
   "metadata": {},
   "outputs": [
    {
     "name": "stdout",
     "output_type": "stream",
     "text": [
      "The most important features are ['analyst', 'data analyst', 'data', 'senior', 'senior data', 'engineer', 'data engineer', 'business', 'manager', 'lead', 'bi', 'graduate', 'business intelligence', 'intelligence', 'senior data engineer']\n"
     ]
    }
   ],
   "source": [
    "rfc2_importance = pd.DataFrame({'Features':vect2.get_feature_names(),\n",
    "                                'Importance':rfc2.feature_importances_})\n",
    "\n",
    "print('The most important features are '+\\\n",
    "      str(rfc2_importance.sort_values(by='Importance',ascending=False).head(15).Features.tolist()))"
   ]
  },
  {
   "cell_type": "markdown",
   "metadata": {},
   "source": [
    "### The effect of titles on salary - SVM"
   ]
  },
  {
   "cell_type": "code",
   "execution_count": 72,
   "metadata": {},
   "outputs": [
    {
     "name": "stdout",
     "output_type": "stream",
     "text": [
      "Train set score 0.845977, test set score 0.686869\n"
     ]
    }
   ],
   "source": [
    "svc2 = LinearSVC()\n",
    "svc2.fit(X2_train_dtm,y2_train)\n",
    "print('Train set score %f, test set score %f' % \\\n",
    "      (metrics.f1_score(y2_train,svc2.predict(X2_train_dtm)),\n",
    "       metrics.f1_score(y2_test,svc2.predict(X2_test_dtm))))"
   ]
  },
  {
   "cell_type": "code",
   "execution_count": 83,
   "metadata": {
    "scrolled": true
   },
   "outputs": [
    {
     "name": "stdout",
     "output_type": "stream",
     "text": [
      "The most frequent phrases where label == 1 are ['senior data engineer', 'lead', 'senior data scientist', 'bi developer', 'sql', 'big data', 'big', 'big data engineer', 'business data', 'business data analyst']\n",
      "\n",
      "The most frequent phrases where label == 0 are ['graduate', 'junior', 'data analyst developer', 'analyst developer', 'spatial data', 'spatial', 'tableau', 'reporting', 'junior data', 'sydney']\n"
     ]
    }
   ],
   "source": [
    "get_tf_phrase(vect2,X2_train,y2_train,svc2,30)"
   ]
  },
  {
   "cell_type": "code",
   "execution_count": 80,
   "metadata": {},
   "outputs": [
    {
     "name": "stdout",
     "output_type": "stream",
     "text": [
      "Features with highest coefs are ['marketing analytics', 'bi developer', 'contract', 'infrastructure', 'consultant data analytics', 'commercial', 'solution', 'bi consultant', 'lead data', 'cloud']\n",
      "\n",
      "Features with lowest coefs are ['graduate', 'analyst banking', 'etl', 'microsoft bi', 'digital data', 'tableau developer', 'analyst', 'senior business intelligence', 'security', 'intern']\n"
     ]
    }
   ],
   "source": [
    "svc_coef2 = pd.DataFrame({\n",
    "    'Features':vect2.get_feature_names(),\n",
    "    'Coef':svc2.coef_.reshape(svc2.coef_.shape[1],)\n",
    "})\n",
    "\n",
    "print('Features with highest coefs are '+\\\n",
    "      str(svc_coef2.sort_values(by='Coef',ascending=False).Features.head(10).tolist()),end='\\n\\n')\n",
    "\n",
    "print('Features with lowest coefs are '+ str(svc_coef2.sort_values(by='Coef').Features.head(10).tolist()))"
   ]
  },
  {
   "cell_type": "markdown",
   "metadata": {},
   "source": [
    "## How job descriptions distinguish data scientists from other data jobs\n",
    "The data is labelled in `dataScientist` weather or not the jobTitle is dataScientist. Random Forest and SVM classifiers are used to distinguish data scientists from other data jobs.\n",
    "\n",
    "In this section, data scientists jobs only consists about 13% of total jobs. The dataset is highly unbalanced, leading to low test accuracy. RandomOverSampler is used to oversample by simply duplicating under-represented samples. However, this will also increase the frequency of the words associated with data scientists in the TF-IDF matrix. TfidfVectorizer can be used to penalize commonly used words, hopefully, it will somewhat cancel out the effect of oversampling.\n"
   ]
  },
  {
   "cell_type": "code",
   "execution_count": 11,
   "metadata": {
    "scrolled": true
   },
   "outputs": [],
   "source": [
    "sci_index = df[pd.DataFrame(df['jobTitle'].str.lower())[['jobTitle']].\\\n",
    "   apply(lambda row: row.astype(str).str.contains('scientist').any(), axis=1)].index"
   ]
  },
  {
   "cell_type": "code",
   "execution_count": 12,
   "metadata": {},
   "outputs": [],
   "source": [
    "for i in df.index:\n",
    "    if i in sci_index:\n",
    "        df.loc[i,'dataScientist'] = 1\n",
    "    else:\n",
    "        df.loc[i,'dataScientist'] = 0"
   ]
  },
  {
   "cell_type": "markdown",
   "metadata": {},
   "source": [
    "### Modelling with unbalnced data directly"
   ]
  },
  {
   "cell_type": "code",
   "execution_count": 13,
   "metadata": {},
   "outputs": [
    {
     "data": {
      "text/plain": [
       "0.877890841813136"
      ]
     },
     "execution_count": 13,
     "metadata": {},
     "output_type": "execute_result"
    }
   ],
   "source": [
    "X3 = df[['jobDesc']]\n",
    "y3 = df.dataScientist\n",
    "# Baseline\n",
    "y3.value_counts(normalize=True).max()"
   ]
  },
  {
   "cell_type": "code",
   "execution_count": 14,
   "metadata": {},
   "outputs": [],
   "source": [
    "X3_train, X3_test, y3_train, y3_test = train_test_split(X3.jobDesc,y3,random_state=42)"
   ]
  },
  {
   "cell_type": "code",
   "execution_count": 16,
   "metadata": {},
   "outputs": [],
   "source": [
    "vect3 = TfidfVectorizer(stop_words='english',ngram_range=(2,3))\n",
    "\n",
    "X3_train_dtm = vect3.fit_transform(X3_train)\n",
    "X3_test_dtm = vect3.transform(X3_test)"
   ]
  },
  {
   "cell_type": "code",
   "execution_count": 17,
   "metadata": {},
   "outputs": [
    {
     "name": "stdout",
     "output_type": "stream",
     "text": [
      "Train set score 0.548148, test set score 0.300000\n"
     ]
    }
   ],
   "source": [
    "rfc3 = RandomForestClassifier(n_estimators=500,max_depth=18,max_leaf_nodes=100)\n",
    "rfc3.fit(X3_train_dtm,y3_train)\n",
    "print('Train set score %f, test set score %f' % \\\n",
    "      (metrics.f1_score(y3_train,rfc3.predict(X3_train_dtm)),\n",
    "       metrics.f1_score(y3_test,rfc3.predict(X3_test_dtm))))"
   ]
  },
  {
   "cell_type": "markdown",
   "metadata": {},
   "source": [
    "### Balance dataset via RandomOverSampler\n",
    "The f1 score without balancing the data is poor and below the baseline accuracy, balance the dataset is necessary."
   ]
  },
  {
   "cell_type": "code",
   "execution_count": 18,
   "metadata": {},
   "outputs": [
    {
     "data": {
      "text/plain": [
       "0.5"
      ]
     },
     "execution_count": 18,
     "metadata": {},
     "output_type": "execute_result"
    }
   ],
   "source": [
    "# The dataset is unbalanced, use RandomOverSampler to oversample label == 1\n",
    "from imblearn.over_sampling import RandomOverSampler # pip install -U imbalanced-learn\n",
    "\n",
    "X3_resampled, y3_resampled = RandomOverSampler().fit_resample(X3, y3)\n",
    "# New Baseline\n",
    "y3_resampled.value_counts(normalize=True).max()"
   ]
  },
  {
   "cell_type": "code",
   "execution_count": 19,
   "metadata": {},
   "outputs": [],
   "source": [
    "X3_train, X3_test, y3_train, y3_test = train_test_split(X3_resampled.jobDesc,y3_resampled,random_state=42)"
   ]
  },
  {
   "cell_type": "code",
   "execution_count": 20,
   "metadata": {},
   "outputs": [],
   "source": [
    "vect3 = TfidfVectorizer(stop_words='english',ngram_range=(2,3))\n",
    "\n",
    "X3_train_dtm = vect3.fit_transform(X3_train)\n",
    "X3_test_dtm = vect3.transform(X3_test)"
   ]
  },
  {
   "cell_type": "markdown",
   "metadata": {},
   "source": [
    "### The effect of job description - Random Forest"
   ]
  },
  {
   "cell_type": "code",
   "execution_count": 617,
   "metadata": {},
   "outputs": [
    {
     "name": "stdout",
     "output_type": "stream",
     "text": [
      "Train set score 0.988104, test set score 0.968468\n"
     ]
    }
   ],
   "source": [
    "rfc3 = RandomForestClassifier(n_estimators=500,max_depth=25,max_leaf_nodes=100)\n",
    "rfc3.fit(X3_train_dtm,y3_train)\n",
    "print('Train set score %f, test set score %f' % \\\n",
    "      (metrics.f1_score(y3_train,rfc3.predict(X3_train_dtm)),\n",
    "       metrics.f1_score(y3_test,rfc3.predict(X3_test_dtm))))"
   ]
  },
  {
   "cell_type": "code",
   "execution_count": 618,
   "metadata": {},
   "outputs": [
    {
     "name": "stdout",
     "output_type": "stream",
     "text": [
      "The most important features are ['data scientist', 'machine learning', 'business intelligence', 'data science', 'computer science', 'machine learning algorithms', 'data scientist join', 'predictive models', 'data mining', 'learning models', 'deep learning', 'structured unstructured data', 'statistics computer science', 'looking data scientist', 'learning algorithms']\n"
     ]
    }
   ],
   "source": [
    "rfc3_importance = pd.DataFrame({'Features':vect3.get_feature_names(),\n",
    "                                'Importance':rfc3.feature_importances_})\n",
    "print('The most important features are '+\\\n",
    "      str(rfc3_importance.sort_values(by='Importance',ascending=False).head(15).Features.tolist()))"
   ]
  },
  {
   "cell_type": "code",
   "execution_count": 620,
   "metadata": {},
   "outputs": [
    {
     "name": "stdout",
     "output_type": "stream",
     "text": [
      "The most frequent phrases where label == 1 are ['data science', 'machine learning', 'data scientist', 'computer science', 'design develop', 'design develop implement', 'develop implement', 'data mining', 'analytical solution', 'deep learning', 'solve complex', 'predictive models', 'data sets', 'privacy policy', 'envato com', 'years experience']\n",
      "\n",
      "The most frequent phrases where label == 0 are ['business intelligence', 'data analyst', 'data engineer', 'data warehouse', 'power bi', 'experience working', 'communication skills', 'data analysis', 'business analyst', 'skills experience', 'sql server', 'data management', 'data migration', 'data modelling', 'month contract', 'data quality']\n"
     ]
    }
   ],
   "source": [
    "get_tf_phrase(vect3,X3_train,y3_train,rfc3,20)"
   ]
  },
  {
   "cell_type": "markdown",
   "metadata": {},
   "source": [
    "### The effect of job description - SVM"
   ]
  },
  {
   "cell_type": "code",
   "execution_count": 621,
   "metadata": {},
   "outputs": [
    {
     "name": "stdout",
     "output_type": "stream",
     "text": [
      "Train set score 0.998619, test set score 1.000000\n"
     ]
    }
   ],
   "source": [
    "svc3 = LinearSVC()\n",
    "svc3.fit(X3_train_dtm,y3_train)\n",
    "print('Train set score %f, test set score %f' % \\\n",
    "      (metrics.f1_score(y3_train,svc3.predict(X3_train_dtm)),\n",
    "       metrics.f1_score(y3_test,svc3.predict(X3_test_dtm))))"
   ]
  },
  {
   "cell_type": "code",
   "execution_count": 88,
   "metadata": {
    "scrolled": false
   },
   "outputs": [
    {
     "name": "stdout",
     "output_type": "stream",
     "text": [
      "The most frequent phrases where label == 1 are ['data science', 'machine learning', 'data scientist', 'computer science', 'data mining', 'predictive models', 'deep learning', 'data sets', 'design develop', 'data scientist join', 'scientist join', 'mathematics statistics', 'learning models', 'cutting edge', 'data scientists', 'structured unstructured']\n",
      "\n",
      "The most frequent phrases where label == 0 are ['business intelligence', 'data analyst', 'data warehouse', 'power bi', 'data engineer', 'experience working', 'communication skills', 'data analysis', 'skills experience', 'sql server', 'business analyst', 'years experience', 'data management', 'data modelling', 'data migration', 'month contract']\n"
     ]
    }
   ],
   "source": [
    "get_tf_phrase(vect3,X3_train,y3_train,svc3,20)"
   ]
  },
  {
   "cell_type": "code",
   "execution_count": 85,
   "metadata": {},
   "outputs": [
    {
     "name": "stdout",
     "output_type": "stream",
     "text": [
      "['data scientist', 'data science', 'machine learning', 'computer science', 'deep learning', 'data mining', 'predictive models', 'learning models', 'mathematics statistics', 'cutting edge']\n",
      "\n",
      "['business intelligence', 'data engineer', 'data analyst', 'business analyst', 'data warehousing', 'data management', 'power bi', 'data warehouse', 'data modelling', 'data solutions']\n"
     ]
    }
   ],
   "source": [
    "svc_coef3 = pd.DataFrame({\n",
    "    'Features':vect3.get_feature_names(),\n",
    "    'Coef':svc3.coef_.reshape(svc3.coef_.shape[1],)\n",
    "})\n",
    "\n",
    "print(svc_coef3.sort_values(by='Coef',ascending=False).Features.head(10).tolist(),end='\\n\\n')\n",
    "print(svc_coef3.sort_values(by='Coef').Features.head(10).tolist())"
   ]
  },
  {
   "cell_type": "code",
   "execution_count": null,
   "metadata": {},
   "outputs": [],
   "source": []
  }
 ],
 "metadata": {
  "kernelspec": {
   "display_name": "Python 3",
   "language": "python",
   "name": "python3"
  },
  "language_info": {
   "codemirror_mode": {
    "name": "ipython",
    "version": 3
   },
   "file_extension": ".py",
   "mimetype": "text/x-python",
   "name": "python",
   "nbconvert_exporter": "python",
   "pygments_lexer": "ipython3",
   "version": "3.7.6"
  }
 },
 "nbformat": 4,
 "nbformat_minor": 4
}
